{
 "cells": [
  {
   "cell_type": "markdown",
   "id": "a0e2432d-27c5-4021-a190-ba6d7e7070e2",
   "metadata": {},
   "source": [
    "Deanna Clayton Mod 4 Notebook Ch6"
   ]
  },
  {
   "cell_type": "markdown",
   "id": "2b5afead-14df-48d2-bdf1-63c479b7a3f7",
   "metadata": {},
   "source": [
    "6.2 Dictionaries"
   ]
  },
  {
   "cell_type": "code",
   "execution_count": 1,
   "id": "cb06e8c2-9b1c-4fc1-afcc-372b5d2fba2f",
   "metadata": {},
   "outputs": [],
   "source": [
    "country_codes = {'Finland': 'fi', 'South Africa': 'za', 'Nepal': 'np'}"
   ]
  },
  {
   "cell_type": "code",
   "execution_count": 2,
   "id": "ff506ff1-d59b-4f43-8728-f4ed43c98a9c",
   "metadata": {},
   "outputs": [
    {
     "data": {
      "text/plain": [
       "{'Finland': 'fi', 'South Africa': 'za', 'Nepal': 'np'}"
      ]
     },
     "execution_count": 2,
     "metadata": {},
     "output_type": "execute_result"
    }
   ],
   "source": [
    "country_codes"
   ]
  },
  {
   "cell_type": "code",
   "execution_count": 3,
   "id": "d64605ca-99a4-4e96-b8bc-4477803d72d4",
   "metadata": {},
   "outputs": [
    {
     "data": {
      "text/plain": [
       "3"
      ]
     },
     "execution_count": 3,
     "metadata": {},
     "output_type": "execute_result"
    }
   ],
   "source": [
    "len(country_codes)"
   ]
  },
  {
   "cell_type": "code",
   "execution_count": 5,
   "id": "3c6450ff-b05f-4cc6-acfb-518cff19f989",
   "metadata": {},
   "outputs": [
    {
     "name": "stdout",
     "output_type": "stream",
     "text": [
      "The country code of Finland is fi\n",
      "The country code of South Africa is za\n",
      "The country code of Nepal is np\n"
     ]
    }
   ],
   "source": [
    "for country, code in country_codes.items():\n",
    "    print(f'The country code of {country} is {code}')"
   ]
  },
  {
   "cell_type": "markdown",
   "id": "96beab5b-c73a-4090-b7ea-094b7664c628",
   "metadata": {},
   "source": [
    "6.2.3 Basic Dictionary Operations"
   ]
  },
  {
   "cell_type": "code",
   "execution_count": 6,
   "id": "47c9dfe5-9a0e-45db-97f4-f9bc6c0b33ba",
   "metadata": {},
   "outputs": [],
   "source": [
    "roman_numerals = {'I': 1, 'II': 2, 'III': 3, 'V': 5, 'X': 100}"
   ]
  },
  {
   "cell_type": "code",
   "execution_count": 7,
   "id": "344bc2f7-770b-4782-bb33-0d12dd03730a",
   "metadata": {},
   "outputs": [
    {
     "data": {
      "text/plain": [
       "5"
      ]
     },
     "execution_count": 7,
     "metadata": {},
     "output_type": "execute_result"
    }
   ],
   "source": [
    "roman_numerals['V']"
   ]
  },
  {
   "cell_type": "code",
   "execution_count": 8,
   "id": "23f7814b-d7b4-490f-8142-cb51676bb6b8",
   "metadata": {},
   "outputs": [],
   "source": [
    "roman_numerals['X'] = 10"
   ]
  },
  {
   "cell_type": "code",
   "execution_count": 9,
   "id": "d24d5364-97e6-44b1-8aaf-348407a64ae6",
   "metadata": {},
   "outputs": [
    {
     "data": {
      "text/plain": [
       "{'I': 1, 'II': 2, 'III': 3, 'V': 5, 'X': 10}"
      ]
     },
     "execution_count": 9,
     "metadata": {},
     "output_type": "execute_result"
    }
   ],
   "source": [
    "roman_numerals"
   ]
  },
  {
   "cell_type": "code",
   "execution_count": 10,
   "id": "d79d4a02-fa07-4e22-830a-52d1faf88bc7",
   "metadata": {},
   "outputs": [],
   "source": [
    "roman_numerals['L'] = 50"
   ]
  },
  {
   "cell_type": "code",
   "execution_count": 11,
   "id": "69712cde-0c4f-498b-87ab-b1f1e140c930",
   "metadata": {},
   "outputs": [
    {
     "data": {
      "text/plain": [
       "{'I': 1, 'II': 2, 'III': 3, 'V': 5, 'X': 10, 'L': 50}"
      ]
     },
     "execution_count": 11,
     "metadata": {},
     "output_type": "execute_result"
    }
   ],
   "source": [
    "roman_numerals"
   ]
  },
  {
   "cell_type": "code",
   "execution_count": 12,
   "id": "1fe82519-83e8-44a7-80bf-f310cade98b7",
   "metadata": {},
   "outputs": [],
   "source": [
    "del roman_numerals['III']"
   ]
  },
  {
   "cell_type": "code",
   "execution_count": 13,
   "id": "638a0df4-c340-40f1-af69-69dbde954821",
   "metadata": {},
   "outputs": [
    {
     "data": {
      "text/plain": [
       "{'I': 1, 'II': 2, 'V': 5, 'X': 10, 'L': 50}"
      ]
     },
     "execution_count": 13,
     "metadata": {},
     "output_type": "execute_result"
    }
   ],
   "source": [
    "roman_numerals"
   ]
  },
  {
   "cell_type": "code",
   "execution_count": 14,
   "id": "de9aa4df-b05f-4ea3-9ec6-64eee3b49940",
   "metadata": {},
   "outputs": [
    {
     "data": {
      "text/plain": [
       "10"
      ]
     },
     "execution_count": 14,
     "metadata": {},
     "output_type": "execute_result"
    }
   ],
   "source": [
    "roman_numerals.pop('X')"
   ]
  },
  {
   "cell_type": "code",
   "execution_count": 15,
   "id": "fe0d8eab-02d4-4547-b98d-035b2fa7cd20",
   "metadata": {},
   "outputs": [
    {
     "data": {
      "text/plain": [
       "{'I': 1, 'II': 2, 'V': 5, 'L': 50}"
      ]
     },
     "execution_count": 15,
     "metadata": {},
     "output_type": "execute_result"
    }
   ],
   "source": [
    "roman_numerals"
   ]
  },
  {
   "cell_type": "markdown",
   "id": "bb609f59-1a8a-47eb-941f-3481dce09652",
   "metadata": {},
   "source": [
    "6.2.4 Dictionary Methods keys and values"
   ]
  },
  {
   "cell_type": "code",
   "execution_count": 16,
   "id": "29ecf902-f1bd-4ad9-a4ad-272590b18640",
   "metadata": {},
   "outputs": [],
   "source": [
    "months = {'January': 1, 'February': 2, 'March': 3}"
   ]
  },
  {
   "cell_type": "code",
   "execution_count": 17,
   "id": "04875d71-583f-4465-aa53-6df63ed68848",
   "metadata": {},
   "outputs": [
    {
     "name": "stdout",
     "output_type": "stream",
     "text": [
      "January February March "
     ]
    }
   ],
   "source": [
    "for month_name in months.keys():\n",
    "    print(month_name, end= ' ')"
   ]
  },
  {
   "cell_type": "code",
   "execution_count": 18,
   "id": "5c2a605b-eba9-41a6-b68e-5ca19ea09f22",
   "metadata": {},
   "outputs": [
    {
     "name": "stdout",
     "output_type": "stream",
     "text": [
      "1 2 3 "
     ]
    }
   ],
   "source": [
    "for month_number in months.values():\n",
    "    print(month_number, end= ' ')"
   ]
  },
  {
   "cell_type": "code",
   "execution_count": 19,
   "id": "83b53016-fc01-42a9-b8f0-5eaacc389212",
   "metadata": {},
   "outputs": [],
   "source": [
    "months_view = months.keys()"
   ]
  },
  {
   "cell_type": "code",
   "execution_count": 20,
   "id": "2838251b-3377-4e33-b4ca-e94b36957bd1",
   "metadata": {},
   "outputs": [
    {
     "name": "stdout",
     "output_type": "stream",
     "text": [
      "January February March "
     ]
    }
   ],
   "source": [
    "for key in months_view:\n",
    "    print(key, end=' ')"
   ]
  },
  {
   "cell_type": "code",
   "execution_count": 21,
   "id": "65e73840-c0f0-4d11-afd9-8798ec4f9677",
   "metadata": {},
   "outputs": [],
   "source": [
    "months['December'] = 12"
   ]
  },
  {
   "cell_type": "code",
   "execution_count": 22,
   "id": "5dbe4327-3c63-4f7e-b445-9a5b0ef712ee",
   "metadata": {},
   "outputs": [
    {
     "data": {
      "text/plain": [
       "{'January': 1, 'February': 2, 'March': 3, 'December': 12}"
      ]
     },
     "execution_count": 22,
     "metadata": {},
     "output_type": "execute_result"
    }
   ],
   "source": [
    "months"
   ]
  },
  {
   "cell_type": "code",
   "execution_count": 24,
   "id": "016dcc65-e711-42d4-81b2-c2783c1e0780",
   "metadata": {},
   "outputs": [
    {
     "data": {
      "text/plain": [
       "[('January', 1), ('February', 2), ('March', 3), ('December', 12)]"
      ]
     },
     "execution_count": 24,
     "metadata": {},
     "output_type": "execute_result"
    }
   ],
   "source": [
    "list(months.items())"
   ]
  },
  {
   "cell_type": "code",
   "execution_count": 25,
   "id": "4bce950b-665a-43cf-bd48-298d666a05dc",
   "metadata": {},
   "outputs": [
    {
     "name": "stdout",
     "output_type": "stream",
     "text": [
      "December February January March "
     ]
    }
   ],
   "source": [
    "for month_name in sorted(months.keys()):\n",
    "    print(month_name, end=' ')"
   ]
  },
  {
   "cell_type": "markdown",
   "id": "26e3b978-1591-440d-ad40-051caa00abb2",
   "metadata": {},
   "source": [
    "6.2.5 Dictionary Comparisons"
   ]
  },
  {
   "cell_type": "code",
   "execution_count": 26,
   "id": "cb457610-e8d1-4007-b367-137dc09b131c",
   "metadata": {},
   "outputs": [],
   "source": [
    "country_capitals1 = {'Belgium': 'Brussels',\n",
    "                     'Haiti': 'Port-au-Prince'}"
   ]
  },
  {
   "cell_type": "code",
   "execution_count": 27,
   "id": "795faad8-98ef-44b2-bf78-5522c8478476",
   "metadata": {},
   "outputs": [],
   "source": [
    "                        \n",
    "country_capitals2 = {'Nepal': 'Kathmandu',\n",
    "                     'Uruguay': 'Montevideo'}"
   ]
  },
  {
   "cell_type": "code",
   "execution_count": 28,
   "id": "2a089fa3-20b4-4e7f-a776-89d797d1597a",
   "metadata": {},
   "outputs": [],
   "source": [
    "country_capitals3 = {'Haiti': 'Port-au-Prince',\n",
    "                     'Belgium': 'Brussels'}"
   ]
  },
  {
   "cell_type": "code",
   "execution_count": 29,
   "id": "2f13ce31-4134-4ebc-9e75-3cd84a38b0ed",
   "metadata": {},
   "outputs": [
    {
     "data": {
      "text/plain": [
       "False"
      ]
     },
     "execution_count": 29,
     "metadata": {},
     "output_type": "execute_result"
    }
   ],
   "source": [
    "country_capitals1 == country_capitals2"
   ]
  },
  {
   "cell_type": "code",
   "execution_count": 30,
   "id": "8f7cb1a2-c07d-4da6-8a7f-92aae3acb3b4",
   "metadata": {},
   "outputs": [
    {
     "data": {
      "text/plain": [
       "True"
      ]
     },
     "execution_count": 30,
     "metadata": {},
     "output_type": "execute_result"
    }
   ],
   "source": [
    "country_capitals1 == country_capitals3"
   ]
  },
  {
   "cell_type": "code",
   "execution_count": 31,
   "id": "88163f8b-5e2b-4b1d-87fa-601cefffc53a",
   "metadata": {},
   "outputs": [
    {
     "data": {
      "text/plain": [
       "True"
      ]
     },
     "execution_count": 31,
     "metadata": {},
     "output_type": "execute_result"
    }
   ],
   "source": [
    "country_capitals1 != country_capitals2"
   ]
  },
  {
   "cell_type": "markdown",
   "id": "12198ff0-f098-480a-91df-3c395adaacc9",
   "metadata": {},
   "source": [
    "6.2.7 Example: Word Counts"
   ]
  },
  {
   "cell_type": "code",
   "execution_count": 32,
   "id": "ca23b2bf-ff2f-4ef0-a426-63fdb2c43679",
   "metadata": {},
   "outputs": [],
   "source": [
    "text = ('this is sample text with several words '\n",
    "        'this is more sample text with some different words')"
   ]
  },
  {
   "cell_type": "code",
   "execution_count": 33,
   "id": "010cefdc-d08f-4b11-a319-42a41eb8c83a",
   "metadata": {},
   "outputs": [],
   "source": [
    "word_counts = {}"
   ]
  },
  {
   "cell_type": "code",
   "execution_count": 35,
   "id": "ecf6c3ca-da24-4f47-a207-97c29598290e",
   "metadata": {},
   "outputs": [],
   "source": [
    "for word in text.split():\n",
    "    if word in word_counts:\n",
    "        word_counts[word] += 1\n",
    "    else:\n",
    "        word_counts[word] = 1"
   ]
  },
  {
   "cell_type": "code",
   "execution_count": 37,
   "id": "031c9280-76ea-4e69-99a4-f6b02573bce4",
   "metadata": {},
   "outputs": [
    {
     "name": "stdout",
     "output_type": "stream",
     "text": [
      "WORD        COUNT\n",
      "different   2\n",
      "is          4\n",
      "more        2\n",
      "sample      4\n",
      "several     2\n",
      "some        2\n",
      "text        4\n",
      "this        4\n",
      "with        4\n",
      "words       4\n",
      "\n",
      "Number of unique words: 10\n"
     ]
    }
   ],
   "source": [
    "print(f'{\"WORD\":<12}COUNT')\n",
    "\n",
    "for word, count in sorted(word_counts.items()):\n",
    "    print(f'{word:<12}{count}')\n",
    "\n",
    "print('\\nNumber of unique words:', len(word_counts))"
   ]
  },
  {
   "cell_type": "code",
   "execution_count": 60,
   "id": "10edfa18-e883-4551-9a42-41d20939ae35",
   "metadata": {},
   "outputs": [],
   "source": [
    "text2 = ('Two households, both alike in dignity '\n",
    "        'In fair Verona, where we lay our scene '\n",
    "        'From ancient grudge break to new mutiny '\n",
    "        'Where civil blood makes civil hands unclean') # From Romeo and Juliet"
   ]
  },
  {
   "cell_type": "code",
   "execution_count": 61,
   "id": "d8678bfe-b255-46d3-8c6d-b8c7d96a9d19",
   "metadata": {},
   "outputs": [],
   "source": [
    "word_counts2 = {}"
   ]
  },
  {
   "cell_type": "code",
   "execution_count": 62,
   "id": "2ae2dd80-21e9-4a9b-b0c9-dd2841455d4c",
   "metadata": {},
   "outputs": [],
   "source": [
    "for word in text2.split():\n",
    "    if word in word_counts2:\n",
    "        word_counts2[word] += 1\n",
    "    else:\n",
    "        word_counts2[word] = 1 "
   ]
  },
  {
   "cell_type": "code",
   "execution_count": 63,
   "id": "c2d55e48-54e9-47ae-803b-e99e095fa736",
   "metadata": {},
   "outputs": [
    {
     "name": "stdout",
     "output_type": "stream",
     "text": [
      "WORD        COUNT\n",
      "From        1\n",
      "In          1\n",
      "Two         1\n",
      "Verona,     1\n",
      "Where       1\n",
      "alike       1\n",
      "ancient     1\n",
      "blood       1\n",
      "both        1\n",
      "break       1\n",
      "civil       2\n",
      "dignity     1\n",
      "fair        1\n",
      "grudge      1\n",
      "hands       1\n",
      "households, 1\n",
      "in          1\n",
      "lay         1\n",
      "makes       1\n",
      "mutiny      1\n",
      "new         1\n",
      "our         1\n",
      "scene       1\n",
      "to          1\n",
      "unclean     1\n",
      "we          1\n",
      "where       1\n",
      "\n",
      "Number of unique words: 27\n"
     ]
    }
   ],
   "source": [
    "print(f'{\"WORD\":<12}COUNT')\n",
    "\n",
    "for word, count in sorted(word_counts2.items()):\n",
    "    print(f'{word:<12}{count}')\n",
    "\n",
    "print('\\nNumber of unique words:', len(word_counts2))"
   ]
  },
  {
   "cell_type": "markdown",
   "id": "d7dce005-0928-4417-89de-4543a7aa5321",
   "metadata": {},
   "source": [
    "Deanna Clayton Mod 4 Checkpoint 4 - Word Count with Dictionaries"
   ]
  },
  {
   "cell_type": "code",
   "execution_count": 65,
   "id": "cbe81c70-fae2-4bbe-8e94-7db35b28ff71",
   "metadata": {},
   "outputs": [],
   "source": [
    "from collections import Counter"
   ]
  },
  {
   "cell_type": "code",
   "execution_count": 66,
   "id": "0f3fcec5-2a3c-428a-ac24-c764169a7266",
   "metadata": {},
   "outputs": [],
   "source": [
    "counter = Counter(text.split())"
   ]
  },
  {
   "cell_type": "code",
   "execution_count": 67,
   "id": "23b45e80-d26e-45f0-acf9-6719cdf27cb2",
   "metadata": {},
   "outputs": [
    {
     "name": "stdout",
     "output_type": "stream",
     "text": [
      "different   1\n",
      "is          2\n",
      "more        1\n",
      "sample      2\n",
      "several     1\n",
      "some        1\n",
      "text        2\n",
      "this        2\n",
      "with        2\n",
      "words       2\n"
     ]
    }
   ],
   "source": [
    "for word, count in sorted(counter.items()):\n",
    "    print(f'{word:<12}{count}')"
   ]
  },
  {
   "cell_type": "markdown",
   "id": "4be804d1-490b-4192-9f18-4f13aa5fb78e",
   "metadata": {},
   "source": [
    "6.2.8 Dictionary Method update"
   ]
  },
  {
   "cell_type": "code",
   "execution_count": 68,
   "id": "a428f948-b093-4cce-9e8b-f7ae49d91f2a",
   "metadata": {},
   "outputs": [],
   "source": [
    "country_codes = {}"
   ]
  },
  {
   "cell_type": "code",
   "execution_count": 69,
   "id": "a2d45209-4f12-4d93-b665-43f095d484ab",
   "metadata": {},
   "outputs": [],
   "source": [
    "country_codes.update({'South Africa': 'za'})"
   ]
  },
  {
   "cell_type": "code",
   "execution_count": 70,
   "id": "8673313c-238b-4bab-aa5f-002a04f44b19",
   "metadata": {},
   "outputs": [],
   "source": [
    "country_codes.update(Australia ='ar')"
   ]
  },
  {
   "cell_type": "code",
   "execution_count": 71,
   "id": "b49e89d3-de28-4102-86cb-b55823bc7972",
   "metadata": {},
   "outputs": [
    {
     "data": {
      "text/plain": [
       "{'South Africa': 'za', 'Australia': 'ar'}"
      ]
     },
     "execution_count": 71,
     "metadata": {},
     "output_type": "execute_result"
    }
   ],
   "source": [
    "country_codes"
   ]
  },
  {
   "cell_type": "code",
   "execution_count": 72,
   "id": "743ae418-af59-41ab-9336-cd278cab755a",
   "metadata": {},
   "outputs": [],
   "source": [
    "country_codes.update(Australia = 'au')"
   ]
  },
  {
   "cell_type": "code",
   "execution_count": 73,
   "id": "4e1ac364-31c4-4380-aaaa-df1e5bf268e1",
   "metadata": {},
   "outputs": [
    {
     "data": {
      "text/plain": [
       "{'South Africa': 'za', 'Australia': 'au'}"
      ]
     },
     "execution_count": 73,
     "metadata": {},
     "output_type": "execute_result"
    }
   ],
   "source": [
    "country_codes"
   ]
  },
  {
   "cell_type": "markdown",
   "id": "5a97f0f9-348f-40e4-bcdd-e0727c1a3ecb",
   "metadata": {},
   "source": [
    "2.2.9 Dictionary Comprehensions"
   ]
  },
  {
   "cell_type": "code",
   "execution_count": 75,
   "id": "67e8863e-9eb8-447e-a9e8-3ac67bc7d7b0",
   "metadata": {},
   "outputs": [
    {
     "data": {
      "text/plain": [
       "{1: 1, 2: 8, 3: 27, 4: 64, 5: 125}"
      ]
     },
     "execution_count": 75,
     "metadata": {},
     "output_type": "execute_result"
    }
   ],
   "source": [
    "{number: number ** 3 for number in range(1, 6)}"
   ]
  },
  {
   "cell_type": "markdown",
   "id": "5e705816-24df-4b6f-8253-05576e77e8b2",
   "metadata": {},
   "source": [
    "6.3 Sets"
   ]
  },
  {
   "cell_type": "code",
   "execution_count": 76,
   "id": "eff5ab15-1ca1-4660-8f9a-10d7774065b5",
   "metadata": {},
   "outputs": [],
   "source": [
    "numbers = list(range(10)) + list(range(5))"
   ]
  },
  {
   "cell_type": "code",
   "execution_count": 77,
   "id": "fa2f2711-ad23-4762-b857-54e26f2fc3ef",
   "metadata": {},
   "outputs": [
    {
     "data": {
      "text/plain": [
       "[0, 1, 2, 3, 4, 5, 6, 7, 8, 9, 0, 1, 2, 3, 4]"
      ]
     },
     "execution_count": 77,
     "metadata": {},
     "output_type": "execute_result"
    }
   ],
   "source": [
    "numbers"
   ]
  },
  {
   "cell_type": "code",
   "execution_count": 78,
   "id": "02d4799f-9818-4cd4-8583-a82dbb41f4fa",
   "metadata": {},
   "outputs": [
    {
     "data": {
      "text/plain": [
       "{0, 1, 2, 3, 4, 5, 6, 7, 8, 9}"
      ]
     },
     "execution_count": 78,
     "metadata": {},
     "output_type": "execute_result"
    }
   ],
   "source": [
    "set(numbers)"
   ]
  },
  {
   "cell_type": "code",
   "execution_count": 82,
   "id": "28d0b49c-c7d1-4e09-ac6b-6a4167f92ede",
   "metadata": {},
   "outputs": [],
   "source": [
    "text = 'to be or not to be that is the question'"
   ]
  },
  {
   "cell_type": "code",
   "execution_count": 83,
   "id": "31a23dbb-b389-4b7e-a310-2324719e8fd4",
   "metadata": {},
   "outputs": [],
   "source": [
    "unique_words = set(text.split())"
   ]
  },
  {
   "cell_type": "code",
   "execution_count": 84,
   "id": "3c2b8319-7288-462b-a827-7288bcd396b7",
   "metadata": {},
   "outputs": [
    {
     "name": "stdout",
     "output_type": "stream",
     "text": [
      "be is not or question that the to "
     ]
    }
   ],
   "source": [
    "for word in sorted(unique_words):\n",
    "    print(word, end=' ')"
   ]
  },
  {
   "cell_type": "markdown",
   "id": "8c07dc7d-ac32-4932-8023-2647c57519a0",
   "metadata": {},
   "source": [
    "6.3.1 Comparing Sets"
   ]
  },
  {
   "cell_type": "code",
   "execution_count": 85,
   "id": "f563dd73-34eb-4c1b-b874-b6b9cd0d5e15",
   "metadata": {},
   "outputs": [
    {
     "data": {
      "text/plain": [
       "False"
      ]
     },
     "execution_count": 85,
     "metadata": {},
     "output_type": "execute_result"
    }
   ],
   "source": [
    "{1, 3, 5} == {7, 3, 5, 1}"
   ]
  },
  {
   "cell_type": "code",
   "execution_count": 86,
   "id": "1fb04905-8445-43cc-8fab-1f2aa5be7b0e",
   "metadata": {},
   "outputs": [
    {
     "data": {
      "text/plain": [
       "True"
      ]
     },
     "execution_count": 86,
     "metadata": {},
     "output_type": "execute_result"
    }
   ],
   "source": [
    "{1, 3, 5} != {7, 3, 5, 1}"
   ]
  },
  {
   "cell_type": "code",
   "execution_count": 87,
   "id": "a32d5618-a010-4d24-8b2a-32dc3cb48c78",
   "metadata": {},
   "outputs": [
    {
     "data": {
      "text/plain": [
       "True"
      ]
     },
     "execution_count": 87,
     "metadata": {},
     "output_type": "execute_result"
    }
   ],
   "source": [
    "{1, 3, 5} < {7, 3, 5, 1}"
   ]
  },
  {
   "cell_type": "code",
   "execution_count": 88,
   "id": "316f1dc2-9b2f-46c5-aa70-99a55a99bf74",
   "metadata": {},
   "outputs": [
    {
     "data": {
      "text/plain": [
       "False"
      ]
     },
     "execution_count": 88,
     "metadata": {},
     "output_type": "execute_result"
    }
   ],
   "source": [
    "{1, 3, 5} > {7, 3, 5, 1}"
   ]
  },
  {
   "cell_type": "code",
   "execution_count": 89,
   "id": "4cdcf2b0-58ea-4fc7-b099-a365cf25183f",
   "metadata": {},
   "outputs": [
    {
     "data": {
      "text/plain": [
       "True"
      ]
     },
     "execution_count": 89,
     "metadata": {},
     "output_type": "execute_result"
    }
   ],
   "source": [
    "{1, 3, 5} <= {7, 3, 5, 1}"
   ]
  },
  {
   "cell_type": "code",
   "execution_count": 90,
   "id": "59c098c8-aca2-436f-b97e-6a8d43301709",
   "metadata": {},
   "outputs": [
    {
     "data": {
      "text/plain": [
       "False"
      ]
     },
     "execution_count": 90,
     "metadata": {},
     "output_type": "execute_result"
    }
   ],
   "source": [
    "{1, 3, 5} >= {7, 3, 5, 1}"
   ]
  },
  {
   "cell_type": "code",
   "execution_count": 91,
   "id": "22dd96ad-6198-48b4-92e3-8efe9f64775f",
   "metadata": {},
   "outputs": [
    {
     "data": {
      "text/plain": [
       "{1, 3, 5, 7}"
      ]
     },
     "execution_count": 91,
     "metadata": {},
     "output_type": "execute_result"
    }
   ],
   "source": [
    "{1, 3, 5} | {7, 3, 5, 1}"
   ]
  },
  {
   "cell_type": "code",
   "execution_count": 92,
   "id": "092c3a46-a501-4141-b201-f7b7abafc6e4",
   "metadata": {},
   "outputs": [
    {
     "data": {
      "text/plain": [
       "{1, 3, 5}"
      ]
     },
     "execution_count": 92,
     "metadata": {},
     "output_type": "execute_result"
    }
   ],
   "source": [
    "{1, 3, 5} & {7, 3, 5, 1}"
   ]
  },
  {
   "cell_type": "code",
   "execution_count": 93,
   "id": "aaad80c0-23f4-4dba-984f-1051512d22f1",
   "metadata": {},
   "outputs": [
    {
     "data": {
      "text/plain": [
       "set()"
      ]
     },
     "execution_count": 93,
     "metadata": {},
     "output_type": "execute_result"
    }
   ],
   "source": [
    "{1, 3, 5} - {7, 3, 5, 1}"
   ]
  },
  {
   "cell_type": "code",
   "execution_count": 94,
   "id": "357cc869-ed9f-412a-b536-39bd3238569b",
   "metadata": {},
   "outputs": [
    {
     "data": {
      "text/plain": [
       "{7}"
      ]
     },
     "execution_count": 94,
     "metadata": {},
     "output_type": "execute_result"
    }
   ],
   "source": [
    "{1, 3, 5} ^ {7, 3, 5, 1}"
   ]
  },
  {
   "cell_type": "code",
   "execution_count": 95,
   "id": "66ed3218-cdcb-4bcd-a902-1fa5c7e25c2e",
   "metadata": {},
   "outputs": [
    {
     "data": {
      "text/plain": [
       "False"
      ]
     },
     "execution_count": 95,
     "metadata": {},
     "output_type": "execute_result"
    }
   ],
   "source": [
    "{1, 3, 5}.isdisjoint({7, 3, 5, 1})"
   ]
  },
  {
   "cell_type": "code",
   "execution_count": 96,
   "id": "ad01b818-378c-4a0e-8221-4cee2f35d6fb",
   "metadata": {},
   "outputs": [],
   "source": [
    "numbers = {1, 3, 5}"
   ]
  },
  {
   "cell_type": "code",
   "execution_count": 97,
   "id": "5d87dd47-12ea-4b9c-8c2c-35722b87d62c",
   "metadata": {},
   "outputs": [],
   "source": [
    "numbers |= {2, 3, 4}"
   ]
  },
  {
   "cell_type": "code",
   "execution_count": 99,
   "id": "f7d155b0-109c-403c-ba78-f33302a1052d",
   "metadata": {},
   "outputs": [],
   "source": [
    "numbers.update(range(10))"
   ]
  },
  {
   "cell_type": "code",
   "execution_count": 100,
   "id": "9da7a641-29a5-41ea-9afc-fb37e529afa5",
   "metadata": {},
   "outputs": [
    {
     "data": {
      "text/plain": [
       "{0, 1, 2, 3, 4, 5, 6, 7, 8, 9}"
      ]
     },
     "execution_count": 100,
     "metadata": {},
     "output_type": "execute_result"
    }
   ],
   "source": [
    "numbers"
   ]
  },
  {
   "cell_type": "code",
   "execution_count": 101,
   "id": "4d0dbe51-ba91-4d5d-bdc5-14858af1a3d8",
   "metadata": {},
   "outputs": [],
   "source": [
    "numbers.add(17)"
   ]
  },
  {
   "cell_type": "code",
   "execution_count": 102,
   "id": "b26946f8-e9eb-4505-a064-c3ecd3880f5f",
   "metadata": {},
   "outputs": [],
   "source": [
    "numbers.remove(3)"
   ]
  },
  {
   "cell_type": "code",
   "execution_count": 103,
   "id": "992d0fb1-d902-4c74-a666-2b35b3d396c0",
   "metadata": {},
   "outputs": [
    {
     "data": {
      "text/plain": [
       "{0, 1, 2, 4, 5, 6, 7, 8, 9, 17}"
      ]
     },
     "execution_count": 103,
     "metadata": {},
     "output_type": "execute_result"
    }
   ],
   "source": [
    "numbers"
   ]
  },
  {
   "cell_type": "code",
   "execution_count": 104,
   "id": "419c93c1-de63-4f3e-84e7-43050f01674b",
   "metadata": {},
   "outputs": [
    {
     "data": {
      "text/plain": [
       "0"
      ]
     },
     "execution_count": 104,
     "metadata": {},
     "output_type": "execute_result"
    }
   ],
   "source": [
    "numbers.pop()"
   ]
  },
  {
   "cell_type": "code",
   "execution_count": 105,
   "id": "f01642a5-54ab-450b-acc9-cad9cce89fef",
   "metadata": {},
   "outputs": [
    {
     "data": {
      "text/plain": [
       "{1, 2, 4, 5, 6, 7, 8, 9, 17}"
      ]
     },
     "execution_count": 105,
     "metadata": {},
     "output_type": "execute_result"
    }
   ],
   "source": [
    "numbers"
   ]
  },
  {
   "cell_type": "code",
   "execution_count": 107,
   "id": "ea0bb65f-763d-44bd-aada-5114a63ad0f9",
   "metadata": {},
   "outputs": [],
   "source": [
    "numbers.clear()"
   ]
  },
  {
   "cell_type": "code",
   "execution_count": 108,
   "id": "03239ccb-3b05-4f12-a7c9-5aadfe283e82",
   "metadata": {},
   "outputs": [],
   "source": [
    "numbers = [1, 2, 2, 3, 4, 5, 6, 6, 7, 8, 9, 10, 10]"
   ]
  },
  {
   "cell_type": "code",
   "execution_count": 109,
   "id": "258bf329-48b3-4620-8d5d-f652f3a2b109",
   "metadata": {},
   "outputs": [],
   "source": [
    "evens = {item for item in numbers if item % 2 ==0}"
   ]
  },
  {
   "cell_type": "code",
   "execution_count": 110,
   "id": "b863a912-672e-4969-8525-47f7a114e8da",
   "metadata": {},
   "outputs": [
    {
     "data": {
      "text/plain": [
       "{2, 4, 6, 8, 10}"
      ]
     },
     "execution_count": 110,
     "metadata": {},
     "output_type": "execute_result"
    }
   ],
   "source": [
    "evens"
   ]
  },
  {
   "cell_type": "markdown",
   "id": "196b1f30-9400-4108-94f1-1c6adc45e93f",
   "metadata": {},
   "source": [
    "Deanna Clayton Mod 4 Checkpoint 5 - Sets"
   ]
  },
  {
   "cell_type": "code",
   "execution_count": null,
   "id": "1a3b4973-ca5d-4d4b-b2f2-29d52071ecf9",
   "metadata": {},
   "outputs": [],
   "source": []
  }
 ],
 "metadata": {
  "kernelspec": {
   "display_name": "Python 3 (ipykernel)",
   "language": "python",
   "name": "python3"
  },
  "language_info": {
   "codemirror_mode": {
    "name": "ipython",
    "version": 3
   },
   "file_extension": ".py",
   "mimetype": "text/x-python",
   "name": "python",
   "nbconvert_exporter": "python",
   "pygments_lexer": "ipython3",
   "version": "3.9.12"
  }
 },
 "nbformat": 4,
 "nbformat_minor": 5
}
